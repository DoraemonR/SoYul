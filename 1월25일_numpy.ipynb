{
  "nbformat": 4,
  "nbformat_minor": 0,
  "metadata": {
    "colab": {
      "name": "1월25일.ipynb",
      "provenance": [],
      "collapsed_sections": [],
      "authorship_tag": "ABX9TyNnPGMENVKydSsl/wKB0wo9",
      "include_colab_link": true
    },
    "kernelspec": {
      "name": "python3",
      "display_name": "Python 3"
    }
  },
  "cells": [
    {
      "cell_type": "markdown",
      "metadata": {
        "id": "view-in-github",
        "colab_type": "text"
      },
      "source": [
        "<a href=\"https://colab.research.google.com/github/DoraemonR/SoYul/blob/main/1%EC%9B%9425%EC%9D%BC_numpy.ipynb\" target=\"_parent\"><img src=\"https://colab.research.google.com/assets/colab-badge.svg\" alt=\"Open In Colab\"/></a>"
      ]
    },
    {
      "cell_type": "code",
      "metadata": {
        "colab": {
          "base_uri": "https://localhost:8080/",
          "height": 35
        },
        "id": "NUGBKtHQSZ99",
        "outputId": "e46dc14a-1751-4d6b-fe97-08e9e444b84a"
      },
      "source": [
        "import numpy as np\r\n",
        "np.__version__"
      ],
      "execution_count": null,
      "outputs": [
        {
          "output_type": "execute_result",
          "data": {
            "application/vnd.google.colaboratory.intrinsic+json": {
              "type": "string"
            },
            "text/plain": [
              "'1.19.5'"
            ]
          },
          "metadata": {
            "tags": []
          },
          "execution_count": 1
        }
      ]
    },
    {
      "cell_type": "code",
      "metadata": {
        "colab": {
          "base_uri": "https://localhost:8080/"
        },
        "id": "W6Vsp5XzS4oM",
        "outputId": "3c528fa7-b667-4f0c-9a01-250d493b895e"
      },
      "source": [
        "my_arr1 = np.array([1,2,3,4,5])\r\n",
        "print(my_arr1)\r\n",
        "my_arr2 = np.array([[10,20,30],[40,50,60]])\r\n",
        "print(my_arr2)\r\n",
        "print(my_arr2.ndim) # 차원\r\n",
        "print(my_arr2.shape) # 크기\r\n",
        "print(type(my_arr2)) # 데이터 타입"
      ],
      "execution_count": null,
      "outputs": [
        {
          "output_type": "stream",
          "text": [
            "[1 2 3 4 5]\n",
            "[[10 20 30]\n",
            " [40 50 60]]\n",
            "2\n",
            "(2, 3)\n",
            "<class 'numpy.ndarray'>\n"
          ],
          "name": "stdout"
        }
      ]
    },
    {
      "cell_type": "code",
      "metadata": {
        "colab": {
          "base_uri": "https://localhost:8080/"
        },
        "id": "xD7Srmw3TeqP",
        "outputId": "00e86c0f-edea-40ab-b760-707d4aefbd1f"
      },
      "source": [
        "# 인덱싱 : index는 0부터 시작.\r\n",
        "print(my_arr2[0][0])\r\n",
        "print(my_arr2[0][1])\r\n",
        "print(my_arr2[1][2])"
      ],
      "execution_count": null,
      "outputs": [
        {
          "output_type": "stream",
          "text": [
            "10\n",
            "20\n",
            "60\n"
          ],
          "name": "stdout"
        }
      ]
    },
    {
      "cell_type": "code",
      "metadata": {
        "colab": {
          "base_uri": "https://localhost:8080/"
        },
        "id": "ZvA6cwknVVfA",
        "outputId": "259cc6fe-e662-4b8e-bc41-fb4ed73d08df"
      },
      "source": [
        "# 슬라이싱\r\n",
        "\r\n",
        "a = np.array([[1,2,3],[4,5,6]])\r\n",
        "print(a[0])\r\n",
        "print(a[0,:])\r\n",
        "print(a[:,1])\r\n",
        "print(a[0:2,0:2])"
      ],
      "execution_count": null,
      "outputs": [
        {
          "output_type": "stream",
          "text": [
            "[1 2 3]\n",
            "[1 2 3]\n",
            "[2 5]\n",
            "[[1 2]\n",
            " [4 5]]\n"
          ],
          "name": "stdout"
        }
      ]
    },
    {
      "cell_type": "code",
      "metadata": {
        "colab": {
          "base_uri": "https://localhost:8080/"
        },
        "id": "kjagL-ZBV-Bi",
        "outputId": "7427f906-8327-48eb-a5b0-dab07fd7229f"
      },
      "source": [
        "# ndarray 초기화\r\n",
        "\r\n",
        "a = np.zeros((2,3))\r\n",
        "print(a)\r\n",
        "print('\\n')\r\n",
        "\r\n",
        "b = np.ones((2,3))\r\n",
        "print(b)\r\n",
        "print('\\n')\r\n",
        "\r\n",
        "c = np.full((2,2),7)\r\n",
        "print(c) \r\n",
        "print('\\n')\r\n",
        "\r\n",
        "d = np.eye(3)\r\n",
        "print(d)\r\n",
        "print('\\n')\r\n",
        "\r\n",
        "e = np.random.random((2,2))\r\n",
        "print(e)\r\n",
        "print('\\n')\r\n",
        "\r\n",
        "np.random.seed(seed=100) # 난수 고정\r\n",
        "print(np.random.normal(size=5))\r\n",
        "print('\\n')\r\n",
        "\r\n",
        "f = np.random.normal(size=(2,3))\r\n",
        "print(f)"
      ],
      "execution_count": null,
      "outputs": [
        {
          "output_type": "stream",
          "text": [
            "[[0. 0. 0.]\n",
            " [0. 0. 0.]]\n",
            "\n",
            "\n",
            "[[1. 1. 1.]\n",
            " [1. 1. 1.]]\n",
            "\n",
            "\n",
            "[[7 7]\n",
            " [7 7]]\n",
            "\n",
            "\n",
            "[[1. 0. 0.]\n",
            " [0. 1. 0.]\n",
            " [0. 0. 1.]]\n",
            "\n",
            "\n",
            "[[0.81622475 0.27407375]\n",
            " [0.43170418 0.94002982]]\n",
            "\n",
            "\n",
            "[-1.74976547  0.3426804   1.1530358  -0.25243604  0.98132079]\n",
            "\n",
            "\n",
            "[[ 0.51421884  0.22117967 -1.07004333]\n",
            " [-0.18949583  0.25500144 -0.45802699]]\n"
          ],
          "name": "stdout"
        }
      ]
    },
    {
      "cell_type": "code",
      "metadata": {
        "colab": {
          "base_uri": "https://localhost:8080/"
        },
        "id": "5EFBGP9sWxeI",
        "outputId": "c76920fd-b64b-4094-e5ee-14e7e1d7522d"
      },
      "source": [
        "# np.arange() : 지정해준 범위에 대해서 배열 생성\r\n",
        "\r\n",
        "a = np.arange(10) # 0 ~ (n-1)까지 범위로 지정\r\n",
        "print(a)\r\n",
        "\r\n",
        "b = np.arange(1, 10, 2)\r\n",
        "print(b)"
      ],
      "execution_count": null,
      "outputs": [
        {
          "output_type": "stream",
          "text": [
            "[0 1 2 3 4 5 6 7 8 9]\n",
            "[1 3 5 7 9]\n"
          ],
          "name": "stdout"
        }
      ]
    },
    {
      "cell_type": "code",
      "metadata": {
        "colab": {
          "base_uri": "https://localhost:8080/"
        },
        "id": "qOrFJz9mYv9H",
        "outputId": "d76e7307-7877-496c-f8ab-d39e6a1394b6"
      },
      "source": [
        "# reshape() : 다차원 배열 변형\r\n",
        "\r\n",
        "a = np.array(np.arange(30)).reshape(5,6)\r\n",
        "print(a)\r\n",
        "print('\\n')\r\n",
        "print(a.T)"
      ],
      "execution_count": null,
      "outputs": [
        {
          "output_type": "stream",
          "text": [
            "[[ 0  1  2  3  4  5]\n",
            " [ 6  7  8  9 10 11]\n",
            " [12 13 14 15 16 17]\n",
            " [18 19 20 21 22 23]\n",
            " [24 25 26 27 28 29]]\n",
            "\n",
            "\n",
            "[[ 0  6 12 18 24]\n",
            " [ 1  7 13 19 25]\n",
            " [ 2  8 14 20 26]\n",
            " [ 3  9 15 21 27]\n",
            " [ 4 10 16 22 28]\n",
            " [ 5 11 17 23 29]]\n"
          ],
          "name": "stdout"
        }
      ]
    },
    {
      "cell_type": "code",
      "metadata": {
        "colab": {
          "base_uri": "https://localhost:8080/"
        },
        "id": "BTvfHpvvZcjl",
        "outputId": "13c296cc-16d4-4497-c11a-0f298dcecea4"
      },
      "source": [
        "# 넘파이 연산 및 함수\r\n",
        "\r\n",
        "x = np.array([1,2,3])\r\n",
        "y = np.array([4,5,6])\r\n",
        "z = np.array([[10,10,10],[20,20,20]])\r\n",
        "\r\n",
        "a = x + y; print(a)\r\n",
        "print(np.add(x,y))\r\n",
        "\r\n",
        "b = x - y; print(b)\r\n",
        "print(np.subtract(x,y))\r\n",
        "\r\n",
        "c = x * y; print(c)\r\n",
        "print(np.multiply(x,y))\r\n",
        "print(np.multiply(b,x))\r\n",
        "\r\n",
        "d = x/y; print(d)\r\n",
        "print(np.divide(x,y))\r\n",
        "print(np.divide(b,x))\r\n",
        "\r\n",
        "# 브로드캐스트 : 차원이 다른 배열끼지 연산\r\n",
        "\r\n",
        "e = x * z; \r\n",
        "print(e)\r\n",
        "f = y + z;\r\n",
        "print(f)"
      ],
      "execution_count": null,
      "outputs": [
        {
          "output_type": "stream",
          "text": [
            "[5 7 9]\n",
            "[5 7 9]\n",
            "[-3 -3 -3]\n",
            "[-3 -3 -3]\n",
            "[ 4 10 18]\n",
            "[ 4 10 18]\n",
            "[-3 -6 -9]\n",
            "[0.25 0.4  0.5 ]\n",
            "[0.25 0.4  0.5 ]\n",
            "[-3.  -1.5 -1. ]\n",
            "[[10 20 30]\n",
            " [20 40 60]]\n",
            "[[14 15 16]\n",
            " [24 25 26]]\n"
          ],
          "name": "stdout"
        }
      ]
    },
    {
      "cell_type": "code",
      "metadata": {
        "colab": {
          "base_uri": "https://localhost:8080/"
        },
        "id": "ZtN6HmwFakQc",
        "outputId": "1aceb60e-f570-47f0-a2b7-880026ef1142"
      },
      "source": [
        "# 넘파이 내장함수\r\n",
        "\r\n",
        "print(np.sum(z))\r\n",
        "print(np.sum(z[:][:]))\r\n",
        "print(np.sum(z, axis=0))\r\n",
        "print(np.sum(z, axis=1))"
      ],
      "execution_count": null,
      "outputs": [
        {
          "output_type": "stream",
          "text": [
            "90\n",
            "90\n",
            "[30 30 30]\n",
            "[30 60]\n"
          ],
          "name": "stdout"
        }
      ]
    },
    {
      "cell_type": "code",
      "metadata": {
        "colab": {
          "base_uri": "https://localhost:8080/"
        },
        "id": "v0M_lTOHcOHU",
        "outputId": "0b407344-6610-44d5-e544-1f5ba22efd04"
      },
      "source": [
        "# no.dot() : 벡터와 행렬의 곱 또는 행렬곱\r\n",
        "\r\n",
        "a = np.array([[1,2],[3,4]])\r\n",
        "b = np.array([[5,6],[7,8]])\r\n",
        "\r\n",
        "c = np.dot(a,b)\r\n",
        "\r\n",
        "print(a)\r\n",
        "print(b)\r\n",
        "print(c)"
      ],
      "execution_count": null,
      "outputs": [
        {
          "output_type": "stream",
          "text": [
            "[[1 2]\n",
            " [3 4]]\n",
            "[[5 6]\n",
            " [7 8]]\n",
            "[[19 22]\n",
            " [43 50]]\n"
          ],
          "name": "stdout"
        }
      ]
    },
    {
      "cell_type": "code",
      "metadata": {
        "colab": {
          "base_uri": "https://localhost:8080/",
          "height": 265
        },
        "id": "huYCrcdhdgWJ",
        "outputId": "919c3464-d3d6-4a86-a33c-e8f36634b195"
      },
      "source": [
        "import matplotlib.pyplot as plt\r\n",
        "\r\n",
        "plt.plot([1,2,3,4,5],[1,4,9,16,25])\r\n",
        "plt.show()"
      ],
      "execution_count": null,
      "outputs": [
        {
          "output_type": "display_data",
          "data": {
            "image/png": "[encoded data removed]",
            "text/plain": [
              "<Figure size 432x288 with 1 Axes>"
            ]
          },
          "metadata": {
            "tags": [],
            "needs_background": "light"
          }
        }
      ]
    },
    {
      "cell_type": "code",
      "metadata": {
        "colab": {
          "base_uri": "https://localhost:8080/",
          "height": 282
        },
        "id": "pd7HIRd2jfyi",
        "outputId": "73fd3978-c789-4ba3-8489-d0b8918b11f0"
      },
      "source": [
        "plt.scatter([1,2,3,4,5],[1,4,9,16,25])"
      ],
      "execution_count": null,
      "outputs": [
        {
          "output_type": "execute_result",
          "data": {
            "text/plain": [
              "<matplotlib.collections.PathCollection at 0x7f8f35657860>"
            ]
          },
          "metadata": {
            "tags": []
          },
          "execution_count": 83
        },
        {
          "output_type": "display_data",
          "data": {
            "image/png": "[encoded data removed]",
            "text/plain": [
              "<Figure size 432x288 with 1 Axes>"
            ]
          },
          "metadata": {
            "tags": [],
            "needs_background": "light"
          }
        }
      ]
    },
    {
      "cell_type": "code",
      "metadata": {
        "colab": {
          "base_uri": "https://localhost:8080/",
          "height": 282
        },
        "id": "8dwsaPsujxlo",
        "outputId": "8b463717-2fe9-45ed-fd0e-4f9e159e00d7"
      },
      "source": [
        "# 정규난수 1000개를 생성하여 산점도 그리기\r\n",
        "\r\n",
        "x = np.random.randn(1000)\r\n",
        "y = np.random.randn(1000)\r\n",
        "plt.scatter(x,y)"
      ],
      "execution_count": null,
      "outputs": [
        {
          "output_type": "execute_result",
          "data": {
            "text/plain": [
              "<matplotlib.collections.PathCollection at 0x7f8f35637160>"
            ]
          },
          "metadata": {
            "tags": []
          },
          "execution_count": 84
        },
        {
          "output_type": "display_data",
          "data": {
            "image/png": "[encoded data removed]",
            "text/plain": [
              "<Figure size 432x288 with 1 Axes>"
            ]
          },
          "metadata": {
            "tags": [],
            "needs_background": "light"
          }
        }
      ]
    },
    {
      "cell_type": "code",
      "metadata": {
        "colab": {
          "base_uri": "https://localhost:8080/"
        },
        "id": "WaTIOVNAkuVL",
        "outputId": "478a38ae-81d3-4f85-bafe-3496aeef4c7b"
      },
      "source": [
        "from sklearn.datasets import load_diabetes\r\n",
        "diabetes = load_diabetes()\r\n",
        "diabetes\r\n",
        "print(diabetes.data.shape, diabetes.target.shape)"
      ],
      "execution_count": null,
      "outputs": [
        {
          "output_type": "stream",
          "text": [
            "(442, 10) (442,)\n"
          ],
          "name": "stdout"
        }
      ]
    },
    {
      "cell_type": "code",
      "metadata": {
        "colab": {
          "base_uri": "https://localhost:8080/"
        },
        "id": "-RB_WjjOpAlx",
        "outputId": "3493cfd5-4348-456d-b263-34e0ead616a0"
      },
      "source": [
        "diabetes.data[0:3]\r\n",
        "diabetes.target[:3]"
      ],
      "execution_count": null,
      "outputs": [
        {
          "output_type": "execute_result",
          "data": {
            "text/plain": [
              "array([151.,  75., 141.])"
            ]
          },
          "metadata": {
            "tags": []
          },
          "execution_count": 89
        }
      ]
    },
    {
      "cell_type": "code",
      "metadata": {
        "colab": {
          "base_uri": "https://localhost:8080/",
          "height": 279
        },
        "id": "XmuiO0PLpt3m",
        "outputId": "dcb703bd-3eb3-4dd7-f23a-45f33cb6d7f8"
      },
      "source": [
        "plt.scatter(diabetes.data[:,3],diabetes.target)\r\n",
        "plt.xlabel('x')\r\n",
        "plt.ylabel('y')\r\n",
        "plt.show()"
      ],
      "execution_count": null,
      "outputs": [
        {
          "output_type": "display_data",
          "data": {
            "image/png": "[encoded data removed]",
            "text/plain": [
              "<Figure size 432x288 with 1 Axes>"
            ]
          },
          "metadata": {
            "tags": [],
            "needs_background": "light"
          }
        }
      ]
    },
    {
      "cell_type": "code",
      "metadata": {
        "id": "MjiUBJoZqOSf"
      },
      "source": [
        ""
      ],
      "execution_count": null,
      "outputs": []
    }
  ]
}