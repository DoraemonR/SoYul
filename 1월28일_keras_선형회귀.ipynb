{
  "nbformat": 4,
  "nbformat_minor": 0,
  "metadata": {
    "colab": {
      "name": "1월28일_keras_선형회귀.ipynb",
      "provenance": [],
      "collapsed_sections": [],
      "authorship_tag": "ABX9TyOAgEsGaLgUeZ2AclFPTcOh",
      "include_colab_link": true
    },
    "kernelspec": {
      "name": "python3",
      "display_name": "Python 3"
    },
    "accelerator": "GPU"
  },
  "cells": [
    {
      "cell_type": "markdown",
      "metadata": {
        "id": "view-in-github",
        "colab_type": "text"
      },
      "source": [
        "<a href=\"https://colab.research.google.com/github/DoraemonR/SoYul/blob/main/1%EC%9B%9428%EC%9D%BC_keras_%EC%84%A0%ED%98%95%ED%9A%8C%EA%B7%80.ipynb\" target=\"_parent\"><img src=\"https://colab.research.google.com/assets/colab-badge.svg\" alt=\"Open In Colab\"/></a>"
      ]
    },
    {
      "cell_type": "code",
      "metadata": {
        "id": "To8l-9JGKLWj",
        "colab": {
          "base_uri": "https://localhost:8080/"
        },
        "outputId": "94ec505a-230f-4ed0-ec76-74276fa54443"
      },
      "source": [
        "!pip install tensorflow\r\n",
        "\r\n",
        "import tensorflow as tf\r\n",
        "from tensorflow.keras.models import Sequential\r\n",
        "from tensorflow.keras.layers import Dense\r\n",
        "from keras import optimizers\r\n",
        "import numpy as np\r\n",
        "import matplotlib.pyplot as plt"
      ],
      "execution_count": null,
      "outputs": [
        {
          "output_type": "stream",
          "text": [
            "Requirement already satisfied: tensorflow in /usr/local/lib/python3.6/dist-packages (2.4.0)\n",
            "Requirement already satisfied: absl-py~=0.10 in /usr/local/lib/python3.6/dist-packages (from tensorflow) (0.10.0)\n",
            "Requirement already satisfied: flatbuffers~=1.12.0 in /usr/local/lib/python3.6/dist-packages (from tensorflow) (1.12)\n",
            "Requirement already satisfied: grpcio~=1.32.0 in /usr/local/lib/python3.6/dist-packages (from tensorflow) (1.32.0)\n",
            "Requirement already satisfied: astunparse~=1.6.3 in /usr/local/lib/python3.6/dist-packages (from tensorflow) (1.6.3)\n",
            "Requirement already satisfied: numpy~=1.19.2 in /usr/local/lib/python3.6/dist-packages (from tensorflow) (1.19.5)\n",
            "Requirement already satisfied: keras-preprocessing~=1.1.2 in /usr/local/lib/python3.6/dist-packages (from tensorflow) (1.1.2)\n",
            "Requirement already satisfied: six~=1.15.0 in /usr/local/lib/python3.6/dist-packages (from tensorflow) (1.15.0)\n",
            "Requirement already satisfied: tensorboard~=2.4 in /usr/local/lib/python3.6/dist-packages (from tensorflow) (2.4.0)\n",
            "Requirement already satisfied: opt-einsum~=3.3.0 in /usr/local/lib/python3.6/dist-packages (from tensorflow) (3.3.0)\n",
            "Requirement already satisfied: tensorflow-estimator<2.5.0,>=2.4.0rc0 in /usr/local/lib/python3.6/dist-packages (from tensorflow) (2.4.0)\n",
            "Requirement already satisfied: h5py~=2.10.0 in /usr/local/lib/python3.6/dist-packages (from tensorflow) (2.10.0)\n",
            "Requirement already satisfied: protobuf>=3.9.2 in /usr/local/lib/python3.6/dist-packages (from tensorflow) (3.12.4)\n",
            "Requirement already satisfied: google-pasta~=0.2 in /usr/local/lib/python3.6/dist-packages (from tensorflow) (0.2.0)\n",
            "Requirement already satisfied: wheel~=0.35 in /usr/local/lib/python3.6/dist-packages (from tensorflow) (0.36.2)\n",
            "Requirement already satisfied: termcolor~=1.1.0 in /usr/local/lib/python3.6/dist-packages (from tensorflow) (1.1.0)\n",
            "Requirement already satisfied: wrapt~=1.12.1 in /usr/local/lib/python3.6/dist-packages (from tensorflow) (1.12.1)\n",
            "Requirement already satisfied: gast==0.3.3 in /usr/local/lib/python3.6/dist-packages (from tensorflow) (0.3.3)\n",
            "Requirement already satisfied: typing-extensions~=3.7.4 in /usr/local/lib/python3.6/dist-packages (from tensorflow) (3.7.4.3)\n",
            "Requirement already satisfied: werkzeug>=0.11.15 in /usr/local/lib/python3.6/dist-packages (from tensorboard~=2.4->tensorflow) (1.0.1)\n",
            "Requirement already satisfied: setuptools>=41.0.0 in /usr/local/lib/python3.6/dist-packages (from tensorboard~=2.4->tensorflow) (51.3.3)\n",
            "Requirement already satisfied: tensorboard-plugin-wit>=1.6.0 in /usr/local/lib/python3.6/dist-packages (from tensorboard~=2.4->tensorflow) (1.7.0)\n",
            "Requirement already satisfied: requests<3,>=2.21.0 in /usr/local/lib/python3.6/dist-packages (from tensorboard~=2.4->tensorflow) (2.23.0)\n",
            "Requirement already satisfied: google-auth<2,>=1.6.3 in /usr/local/lib/python3.6/dist-packages (from tensorboard~=2.4->tensorflow) (1.17.2)\n",
            "Requirement already satisfied: markdown>=2.6.8 in /usr/local/lib/python3.6/dist-packages (from tensorboard~=2.4->tensorflow) (3.3.3)\n",
            "Requirement already satisfied: google-auth-oauthlib<0.5,>=0.4.1 in /usr/local/lib/python3.6/dist-packages (from tensorboard~=2.4->tensorflow) (0.4.2)\n",
            "Requirement already satisfied: idna<3,>=2.5 in /usr/local/lib/python3.6/dist-packages (from requests<3,>=2.21.0->tensorboard~=2.4->tensorflow) (2.10)\n",
            "Requirement already satisfied: urllib3!=1.25.0,!=1.25.1,<1.26,>=1.21.1 in /usr/local/lib/python3.6/dist-packages (from requests<3,>=2.21.0->tensorboard~=2.4->tensorflow) (1.24.3)\n",
            "Requirement already satisfied: certifi>=2017.4.17 in /usr/local/lib/python3.6/dist-packages (from requests<3,>=2.21.0->tensorboard~=2.4->tensorflow) (2020.12.5)\n",
            "Requirement already satisfied: chardet<4,>=3.0.2 in /usr/local/lib/python3.6/dist-packages (from requests<3,>=2.21.0->tensorboard~=2.4->tensorflow) (3.0.4)\n",
            "Requirement already satisfied: rsa<5,>=3.1.4; python_version >= \"3\" in /usr/local/lib/python3.6/dist-packages (from google-auth<2,>=1.6.3->tensorboard~=2.4->tensorflow) (4.6)\n",
            "Requirement already satisfied: cachetools<5.0,>=2.0.0 in /usr/local/lib/python3.6/dist-packages (from google-auth<2,>=1.6.3->tensorboard~=2.4->tensorflow) (4.2.0)\n",
            "Requirement already satisfied: pyasn1-modules>=0.2.1 in /usr/local/lib/python3.6/dist-packages (from google-auth<2,>=1.6.3->tensorboard~=2.4->tensorflow) (0.2.8)\n",
            "Requirement already satisfied: importlib-metadata; python_version < \"3.8\" in /usr/local/lib/python3.6/dist-packages (from markdown>=2.6.8->tensorboard~=2.4->tensorflow) (3.3.0)\n",
            "Requirement already satisfied: requests-oauthlib>=0.7.0 in /usr/local/lib/python3.6/dist-packages (from google-auth-oauthlib<0.5,>=0.4.1->tensorboard~=2.4->tensorflow) (1.3.0)\n",
            "Requirement already satisfied: pyasn1>=0.1.3 in /usr/local/lib/python3.6/dist-packages (from rsa<5,>=3.1.4; python_version >= \"3\"->google-auth<2,>=1.6.3->tensorboard~=2.4->tensorflow) (0.4.8)\n",
            "Requirement already satisfied: zipp>=0.5 in /usr/local/lib/python3.6/dist-packages (from importlib-metadata; python_version < \"3.8\"->markdown>=2.6.8->tensorboard~=2.4->tensorflow) (3.4.0)\n",
            "Requirement already satisfied: oauthlib>=3.0.0 in /usr/local/lib/python3.6/dist-packages (from requests-oauthlib>=0.7.0->google-auth-oauthlib<0.5,>=0.4.1->tensorboard~=2.4->tensorflow) (3.1.0)\n"
          ],
          "name": "stdout"
        }
      ]
    },
    {
      "cell_type": "code",
      "metadata": {
        "id": "OGttEFpPKsbp"
      },
      "source": [
        "X = np.array([1,2,3,4,5])\r\n",
        "Y = np.array([1,2,3,4,5])"
      ],
      "execution_count": null,
      "outputs": []
    },
    {
      "cell_type": "code",
      "metadata": {
        "colab": {
          "base_uri": "https://localhost:8080/"
        },
        "id": "Ltcmu3hrK4kE",
        "outputId": "529e52da-655b-48ec-f2dd-c67c74882a6c"
      },
      "source": [
        "model = Sequential()\r\n",
        "model.add(Dense(1, input_dim = 1, activation='linear'))\r\n",
        "sgd = optimizers.SGD(learning_rate=0.01)\r\n",
        "model.compile(optimizer=sgd, loss='mse', metrics=['accuracy'])\r\n",
        "model.fit(X,Y,batch_size=1, epochs=10, shuffle=False)"
      ],
      "execution_count": null,
      "outputs": [
        {
          "output_type": "stream",
          "text": [
            "Epoch 1/10\n",
            "5/5 [==============================] - 0s 2ms/step - loss: 28.1007 - accuracy: 0.0000e+00\n",
            "Epoch 2/10\n",
            "5/5 [==============================] - 0s 2ms/step - loss: 1.1367 - accuracy: 0.4139\n",
            "Epoch 3/10\n",
            "5/5 [==============================] - 0s 2ms/step - loss: 0.1306 - accuracy: 0.4139\n",
            "Epoch 4/10\n",
            "5/5 [==============================] - 0s 2ms/step - loss: 0.1491 - accuracy: 0.4139\n",
            "Epoch 5/10\n",
            "5/5 [==============================] - 0s 2ms/step - loss: 0.1606 - accuracy: 0.4139\n",
            "Epoch 6/10\n",
            "5/5 [==============================] - 0s 2ms/step - loss: 0.1591 - accuracy: 0.4139\n",
            "Epoch 7/10\n",
            "5/5 [==============================] - 0s 3ms/step - loss: 0.1545 - accuracy: 0.4139\n",
            "Epoch 8/10\n",
            "5/5 [==============================] - 0s 2ms/step - loss: 0.1492 - accuracy: 0.4139\n",
            "Epoch 9/10\n",
            "5/5 [==============================] - 0s 2ms/step - loss: 0.1440 - accuracy: 0.4139\n",
            "Epoch 10/10\n",
            "5/5 [==============================] - 0s 2ms/step - loss: 0.1389 - accuracy: 0.4139\n"
          ],
          "name": "stdout"
        },
        {
          "output_type": "execute_result",
          "data": {
            "text/plain": [
              "<tensorflow.python.keras.callbacks.History at 0x7f5fd02f25f8>"
            ]
          },
          "metadata": {
            "tags": []
          },
          "execution_count": 74
        }
      ]
    },
    {
      "cell_type": "code",
      "metadata": {
        "colab": {
          "base_uri": "https://localhost:8080/",
          "height": 303
        },
        "id": "4cX50_RZLZxu",
        "outputId": "9a96c6a3-9898-4c9a-b264-1fdec6fdeff6"
      },
      "source": [
        "# plt.plot(X,Y)\r\n",
        "plt.plot(X,Y,'bo')\r\n",
        "plt.plot(X, model.predict(X),'r-')\r\n",
        "plt.show()"
      ],
      "execution_count": null,
      "outputs": [
        {
          "output_type": "stream",
          "text": [
            "WARNING:tensorflow:5 out of the last 5 calls to <function Model.make_predict_function.<locals>.predict_function at 0x7f5fd01c5158> triggered tf.function retracing. Tracing is expensive and the excessive number of tracings could be due to (1) creating @tf.function repeatedly in a loop, (2) passing tensors with different shapes, (3) passing Python objects instead of tensors. For (1), please define your @tf.function outside of the loop. For (2), @tf.function has experimental_relax_shapes=True option that relaxes argument shapes that can avoid unnecessary retracing. For (3), please refer to https://www.tensorflow.org/guide/function#controlling_retracing and https://www.tensorflow.org/api_docs/python/tf/function for  more details.\n"
          ],
          "name": "stdout"
        },
        {
          "output_type": "display_data",
          "data": {
            "image/png": "[encoded data removed]",
            "text/plain": [
              "<Figure size 432x288 with 1 Axes>"
            ]
          },
          "metadata": {
            "tags": [],
            "needs_background": "light"
          }
        }
      ]
    },
    {
      "cell_type": "code",
      "metadata": {
        "colab": {
          "base_uri": "https://localhost:8080/"
        },
        "id": "7W12Xk-nLknq",
        "outputId": "43f48a25-2323-4831-a90e-6326770a2a38"
      },
      "source": [
        "# keras로 이진 분류 구현\r\n",
        "\r\n",
        "Z1 = np.array([1,2,3,4,5,6,7,8])\r\n",
        "Z2 = np.array([0,0,0,0,1,1,1,1])\r\n",
        "\r\n",
        "model=Sequential()\r\n",
        "model.add(Dense(1, input_dim=1, activation='sigmoid'))\r\n",
        "RMSprop=optimizers.RMSprop(learning_rate=0.01)\r\n",
        "model.compile(optimizer=RMSprop, loss='binary_crossentropy', metrics=['accuracy'])\r\n",
        "model.fit(Z1, Z2, batch_size=1, epochs=200, shuffle=False)\r\n",
        "\r\n"
      ],
      "execution_count": null,
      "outputs": [
        {
          "output_type": "stream",
          "text": [
            "Epoch 1/200\n",
            "8/8 [==============================] - 0s 2ms/step - loss: 0.9242 - accuracy: 0.2180\n",
            "Epoch 2/200\n",
            "8/8 [==============================] - 0s 2ms/step - loss: 0.8409 - accuracy: 0.2180\n",
            "Epoch 3/200\n",
            "8/8 [==============================] - 0s 2ms/step - loss: 0.7991 - accuracy: 0.2180\n",
            "Epoch 4/200\n",
            "8/8 [==============================] - 0s 2ms/step - loss: 0.7686 - accuracy: 0.2180\n",
            "Epoch 5/200\n",
            "8/8 [==============================] - 0s 2ms/step - loss: 0.7446 - accuracy: 0.2180\n",
            "Epoch 6/200\n",
            "8/8 [==============================] - 0s 2ms/step - loss: 0.7253 - accuracy: 0.2180\n",
            "Epoch 7/200\n",
            "8/8 [==============================] - 0s 2ms/step - loss: 0.7092 - accuracy: 0.5339\n",
            "Epoch 8/200\n",
            "8/8 [==============================] - 0s 2ms/step - loss: 0.6955 - accuracy: 0.5339\n",
            "Epoch 9/200\n",
            "8/8 [==============================] - 0s 2ms/step - loss: 0.6837 - accuracy: 0.5339\n",
            "Epoch 10/200\n",
            "8/8 [==============================] - 0s 2ms/step - loss: 0.6733 - accuracy: 0.5339\n",
            "Epoch 11/200\n",
            "8/8 [==============================] - 0s 2ms/step - loss: 0.6640 - accuracy: 0.5339\n",
            "Epoch 12/200\n",
            "8/8 [==============================] - 0s 2ms/step - loss: 0.6555 - accuracy: 0.5339\n",
            "Epoch 13/200\n",
            "8/8 [==============================] - 0s 2ms/step - loss: 0.6476 - accuracy: 0.5339\n",
            "Epoch 14/200\n",
            "8/8 [==============================] - 0s 2ms/step - loss: 0.6403 - accuracy: 0.5339\n",
            "Epoch 15/200\n",
            "8/8 [==============================] - 0s 2ms/step - loss: 0.6333 - accuracy: 0.5339\n",
            "Epoch 16/200\n",
            "8/8 [==============================] - 0s 2ms/step - loss: 0.6267 - accuracy: 0.5339\n",
            "Epoch 17/200\n",
            "8/8 [==============================] - 0s 2ms/step - loss: 0.6203 - accuracy: 0.7386\n",
            "Epoch 18/200\n",
            "8/8 [==============================] - 0s 2ms/step - loss: 0.6142 - accuracy: 0.7386\n",
            "Epoch 19/200\n",
            "8/8 [==============================] - 0s 2ms/step - loss: 0.6082 - accuracy: 0.7386\n",
            "Epoch 20/200\n",
            "8/8 [==============================] - 0s 2ms/step - loss: 0.6024 - accuracy: 0.7386\n",
            "Epoch 21/200\n",
            "8/8 [==============================] - 0s 2ms/step - loss: 0.5967 - accuracy: 0.7386\n",
            "Epoch 22/200\n",
            "8/8 [==============================] - 0s 2ms/step - loss: 0.5912 - accuracy: 0.7386\n",
            "Epoch 23/200\n",
            "8/8 [==============================] - 0s 2ms/step - loss: 0.5857 - accuracy: 0.7386\n",
            "Epoch 24/200\n",
            "8/8 [==============================] - 0s 2ms/step - loss: 0.5804 - accuracy: 0.7386\n",
            "Epoch 25/200\n",
            "8/8 [==============================] - 0s 3ms/step - loss: 0.5751 - accuracy: 0.7386\n",
            "Epoch 26/200\n",
            "8/8 [==============================] - 0s 2ms/step - loss: 0.5699 - accuracy: 0.7386\n",
            "Epoch 27/200\n",
            "8/8 [==============================] - 0s 2ms/step - loss: 0.5648 - accuracy: 0.7386\n",
            "Epoch 28/200\n",
            "8/8 [==============================] - 0s 2ms/step - loss: 0.5597 - accuracy: 0.7386\n",
            "Epoch 29/200\n",
            "8/8 [==============================] - 0s 2ms/step - loss: 0.5547 - accuracy: 0.7386\n",
            "Epoch 30/200\n",
            "8/8 [==============================] - 0s 2ms/step - loss: 0.5498 - accuracy: 0.7386\n",
            "Epoch 31/200\n",
            "8/8 [==============================] - 0s 2ms/step - loss: 0.5450 - accuracy: 0.7386\n",
            "Epoch 32/200\n",
            "8/8 [==============================] - 0s 2ms/step - loss: 0.5402 - accuracy: 0.7386\n",
            "Epoch 33/200\n",
            "8/8 [==============================] - 0s 2ms/step - loss: 0.5354 - accuracy: 0.7386\n",
            "Epoch 34/200\n",
            "8/8 [==============================] - 0s 2ms/step - loss: 0.5308 - accuracy: 0.7386\n",
            "Epoch 35/200\n",
            "8/8 [==============================] - 0s 2ms/step - loss: 0.5262 - accuracy: 0.7386\n",
            "Epoch 36/200\n",
            "8/8 [==============================] - 0s 2ms/step - loss: 0.5216 - accuracy: 0.7386\n",
            "Epoch 37/200\n",
            "8/8 [==============================] - 0s 2ms/step - loss: 0.5171 - accuracy: 0.7386\n",
            "Epoch 38/200\n",
            "8/8 [==============================] - 0s 2ms/step - loss: 0.5127 - accuracy: 0.7386\n",
            "Epoch 39/200\n",
            "8/8 [==============================] - 0s 2ms/step - loss: 0.5083 - accuracy: 0.8878\n",
            "Epoch 40/200\n",
            "8/8 [==============================] - 0s 2ms/step - loss: 0.5040 - accuracy: 0.8878\n",
            "Epoch 41/200\n",
            "8/8 [==============================] - 0s 2ms/step - loss: 0.4997 - accuracy: 0.8878\n",
            "Epoch 42/200\n",
            "8/8 [==============================] - 0s 2ms/step - loss: 0.4955 - accuracy: 0.8878\n",
            "Epoch 43/200\n",
            "8/8 [==============================] - 0s 2ms/step - loss: 0.4913 - accuracy: 0.8878\n",
            "Epoch 44/200\n",
            "8/8 [==============================] - 0s 2ms/step - loss: 0.4872 - accuracy: 0.8878\n",
            "Epoch 45/200\n",
            "8/8 [==============================] - 0s 2ms/step - loss: 0.4831 - accuracy: 0.8878\n",
            "Epoch 46/200\n",
            "8/8 [==============================] - 0s 2ms/step - loss: 0.4791 - accuracy: 0.8878\n",
            "Epoch 47/200\n",
            "8/8 [==============================] - 0s 2ms/step - loss: 0.4751 - accuracy: 0.8878\n",
            "Epoch 48/200\n",
            "8/8 [==============================] - 0s 2ms/step - loss: 0.4712 - accuracy: 0.8878\n",
            "Epoch 49/200\n",
            "8/8 [==============================] - 0s 2ms/step - loss: 0.4674 - accuracy: 0.8878\n",
            "Epoch 50/200\n",
            "8/8 [==============================] - 0s 2ms/step - loss: 0.4635 - accuracy: 0.8878\n",
            "Epoch 51/200\n",
            "8/8 [==============================] - 0s 2ms/step - loss: 0.4598 - accuracy: 0.8878\n",
            "Epoch 52/200\n",
            "8/8 [==============================] - 0s 2ms/step - loss: 0.4561 - accuracy: 0.8878\n",
            "Epoch 53/200\n",
            "8/8 [==============================] - 0s 2ms/step - loss: 0.4524 - accuracy: 0.8878\n",
            "Epoch 54/200\n",
            "8/8 [==============================] - 0s 2ms/step - loss: 0.4488 - accuracy: 0.8878\n",
            "Epoch 55/200\n",
            "8/8 [==============================] - 0s 2ms/step - loss: 0.4452 - accuracy: 0.8878\n",
            "Epoch 56/200\n",
            "8/8 [==============================] - 0s 2ms/step - loss: 0.4416 - accuracy: 0.8878\n",
            "Epoch 57/200\n",
            "8/8 [==============================] - 0s 2ms/step - loss: 0.4381 - accuracy: 0.8878\n",
            "Epoch 58/200\n",
            "8/8 [==============================] - 0s 2ms/step - loss: 0.4347 - accuracy: 0.8878\n",
            "Epoch 59/200\n",
            "8/8 [==============================] - 0s 2ms/step - loss: 0.4313 - accuracy: 0.8878\n",
            "Epoch 60/200\n",
            "8/8 [==============================] - 0s 2ms/step - loss: 0.4279 - accuracy: 0.8878\n",
            "Epoch 61/200\n",
            "8/8 [==============================] - 0s 2ms/step - loss: 0.4246 - accuracy: 0.8878\n",
            "Epoch 62/200\n",
            "8/8 [==============================] - 0s 2ms/step - loss: 0.4214 - accuracy: 0.8878\n",
            "Epoch 63/200\n",
            "8/8 [==============================] - 0s 2ms/step - loss: 0.4181 - accuracy: 0.8878\n",
            "Epoch 64/200\n",
            "8/8 [==============================] - 0s 2ms/step - loss: 0.4149 - accuracy: 0.8878\n",
            "Epoch 65/200\n",
            "8/8 [==============================] - 0s 2ms/step - loss: 0.4118 - accuracy: 0.8878\n",
            "Epoch 66/200\n",
            "8/8 [==============================] - 0s 2ms/step - loss: 0.4087 - accuracy: 0.8878\n",
            "Epoch 67/200\n",
            "8/8 [==============================] - 0s 2ms/step - loss: 0.4056 - accuracy: 0.8878\n",
            "Epoch 68/200\n",
            "8/8 [==============================] - 0s 2ms/step - loss: 0.4026 - accuracy: 0.8878\n",
            "Epoch 69/200\n",
            "8/8 [==============================] - 0s 2ms/step - loss: 0.3996 - accuracy: 0.8878\n",
            "Epoch 70/200\n",
            "8/8 [==============================] - 0s 2ms/step - loss: 0.3966 - accuracy: 0.8878\n",
            "Epoch 71/200\n",
            "8/8 [==============================] - 0s 2ms/step - loss: 0.3937 - accuracy: 0.8878\n",
            "Epoch 72/200\n",
            "8/8 [==============================] - 0s 2ms/step - loss: 0.3908 - accuracy: 0.8878\n",
            "Epoch 73/200\n",
            "8/8 [==============================] - 0s 2ms/step - loss: 0.3880 - accuracy: 0.8878\n",
            "Epoch 74/200\n",
            "8/8 [==============================] - 0s 2ms/step - loss: 0.3852 - accuracy: 0.8878\n",
            "Epoch 75/200\n",
            "8/8 [==============================] - 0s 2ms/step - loss: 0.3824 - accuracy: 0.8878\n",
            "Epoch 76/200\n",
            "8/8 [==============================] - 0s 2ms/step - loss: 0.3797 - accuracy: 0.8878\n",
            "Epoch 77/200\n",
            "8/8 [==============================] - 0s 2ms/step - loss: 0.3769 - accuracy: 0.8878\n",
            "Epoch 78/200\n",
            "8/8 [==============================] - 0s 2ms/step - loss: 0.3743 - accuracy: 0.8878\n",
            "Epoch 79/200\n",
            "8/8 [==============================] - 0s 3ms/step - loss: 0.3716 - accuracy: 0.8878\n",
            "Epoch 80/200\n",
            "8/8 [==============================] - 0s 2ms/step - loss: 0.3690 - accuracy: 0.8878\n",
            "Epoch 81/200\n",
            "8/8 [==============================] - 0s 2ms/step - loss: 0.3665 - accuracy: 0.8878\n",
            "Epoch 82/200\n",
            "8/8 [==============================] - 0s 3ms/step - loss: 0.3639 - accuracy: 0.8878\n",
            "Epoch 83/200\n",
            "8/8 [==============================] - 0s 2ms/step - loss: 0.3614 - accuracy: 0.8878\n",
            "Epoch 84/200\n",
            "8/8 [==============================] - 0s 2ms/step - loss: 0.3590 - accuracy: 0.8878\n",
            "Epoch 85/200\n",
            "8/8 [==============================] - 0s 2ms/step - loss: 0.3565 - accuracy: 0.8878\n",
            "Epoch 86/200\n",
            "8/8 [==============================] - 0s 2ms/step - loss: 0.3541 - accuracy: 0.8878\n",
            "Epoch 87/200\n",
            "8/8 [==============================] - 0s 2ms/step - loss: 0.3517 - accuracy: 0.8878\n",
            "Epoch 88/200\n",
            "8/8 [==============================] - 0s 2ms/step - loss: 0.3494 - accuracy: 0.8878\n",
            "Epoch 89/200\n",
            "8/8 [==============================] - 0s 2ms/step - loss: 0.3470 - accuracy: 0.8878\n",
            "Epoch 90/200\n",
            "8/8 [==============================] - 0s 2ms/step - loss: 0.3447 - accuracy: 0.8878\n",
            "Epoch 91/200\n",
            "8/8 [==============================] - 0s 2ms/step - loss: 0.3425 - accuracy: 0.8878\n",
            "Epoch 92/200\n",
            "8/8 [==============================] - 0s 2ms/step - loss: 0.3402 - accuracy: 0.8878\n",
            "Epoch 93/200\n",
            "8/8 [==============================] - 0s 2ms/step - loss: 0.3380 - accuracy: 0.8878\n",
            "Epoch 94/200\n",
            "8/8 [==============================] - 0s 2ms/step - loss: 0.3358 - accuracy: 0.8878\n",
            "Epoch 95/200\n",
            "8/8 [==============================] - 0s 2ms/step - loss: 0.3337 - accuracy: 0.8878\n",
            "Epoch 96/200\n",
            "8/8 [==============================] - 0s 2ms/step - loss: 0.3316 - accuracy: 0.8878\n",
            "Epoch 97/200\n",
            "8/8 [==============================] - 0s 2ms/step - loss: 0.3295 - accuracy: 0.8878\n",
            "Epoch 98/200\n",
            "8/8 [==============================] - 0s 2ms/step - loss: 0.3274 - accuracy: 0.8878\n",
            "Epoch 99/200\n",
            "8/8 [==============================] - 0s 2ms/step - loss: 0.3253 - accuracy: 0.8878\n",
            "Epoch 100/200\n",
            "8/8 [==============================] - 0s 2ms/step - loss: 0.3233 - accuracy: 0.8878\n",
            "Epoch 101/200\n",
            "8/8 [==============================] - 0s 2ms/step - loss: 0.3213 - accuracy: 0.8878\n",
            "Epoch 102/200\n",
            "8/8 [==============================] - 0s 2ms/step - loss: 0.3193 - accuracy: 0.8878\n",
            "Epoch 103/200\n",
            "8/8 [==============================] - 0s 2ms/step - loss: 0.3174 - accuracy: 0.8878\n",
            "Epoch 104/200\n",
            "8/8 [==============================] - 0s 2ms/step - loss: 0.3154 - accuracy: 0.8878\n",
            "Epoch 105/200\n",
            "8/8 [==============================] - 0s 2ms/step - loss: 0.3135 - accuracy: 0.8878\n",
            "Epoch 106/200\n",
            "8/8 [==============================] - 0s 2ms/step - loss: 0.3116 - accuracy: 0.8878\n",
            "Epoch 107/200\n",
            "8/8 [==============================] - 0s 2ms/step - loss: 0.3098 - accuracy: 0.8878\n",
            "Epoch 108/200\n",
            "8/8 [==============================] - 0s 2ms/step - loss: 0.3079 - accuracy: 0.8878\n",
            "Epoch 109/200\n",
            "8/8 [==============================] - 0s 2ms/step - loss: 0.3061 - accuracy: 0.8878\n",
            "Epoch 110/200\n",
            "8/8 [==============================] - 0s 2ms/step - loss: 0.3043 - accuracy: 0.8878\n",
            "Epoch 111/200\n",
            "8/8 [==============================] - 0s 2ms/step - loss: 0.3025 - accuracy: 0.8878\n",
            "Epoch 112/200\n",
            "8/8 [==============================] - 0s 2ms/step - loss: 0.3008 - accuracy: 0.8878\n",
            "Epoch 113/200\n",
            "8/8 [==============================] - 0s 2ms/step - loss: 0.2990 - accuracy: 0.8878\n",
            "Epoch 114/200\n",
            "8/8 [==============================] - 0s 2ms/step - loss: 0.2973 - accuracy: 1.0000\n",
            "Epoch 115/200\n",
            "8/8 [==============================] - 0s 2ms/step - loss: 0.2956 - accuracy: 1.0000\n",
            "Epoch 116/200\n",
            "8/8 [==============================] - 0s 2ms/step - loss: 0.2940 - accuracy: 1.0000\n",
            "Epoch 117/200\n",
            "8/8 [==============================] - 0s 2ms/step - loss: 0.2923 - accuracy: 1.0000\n",
            "Epoch 118/200\n",
            "8/8 [==============================] - 0s 2ms/step - loss: 0.2907 - accuracy: 1.0000\n",
            "Epoch 119/200\n",
            "8/8 [==============================] - 0s 2ms/step - loss: 0.2890 - accuracy: 1.0000\n",
            "Epoch 120/200\n",
            "8/8 [==============================] - 0s 2ms/step - loss: 0.2874 - accuracy: 1.0000\n",
            "Epoch 121/200\n",
            "8/8 [==============================] - 0s 2ms/step - loss: 0.2859 - accuracy: 1.0000\n",
            "Epoch 122/200\n",
            "8/8 [==============================] - 0s 2ms/step - loss: 0.2843 - accuracy: 1.0000\n",
            "Epoch 123/200\n",
            "8/8 [==============================] - 0s 2ms/step - loss: 0.2828 - accuracy: 1.0000\n",
            "Epoch 124/200\n",
            "8/8 [==============================] - 0s 2ms/step - loss: 0.2812 - accuracy: 1.0000\n",
            "Epoch 125/200\n",
            "8/8 [==============================] - 0s 2ms/step - loss: 0.2797 - accuracy: 1.0000\n",
            "Epoch 126/200\n",
            "8/8 [==============================] - 0s 2ms/step - loss: 0.2782 - accuracy: 1.0000\n",
            "Epoch 127/200\n",
            "8/8 [==============================] - 0s 2ms/step - loss: 0.2767 - accuracy: 1.0000\n",
            "Epoch 128/200\n",
            "8/8 [==============================] - 0s 2ms/step - loss: 0.2753 - accuracy: 1.0000\n",
            "Epoch 129/200\n",
            "8/8 [==============================] - 0s 2ms/step - loss: 0.2738 - accuracy: 1.0000\n",
            "Epoch 130/200\n",
            "8/8 [==============================] - 0s 2ms/step - loss: 0.2724 - accuracy: 1.0000\n",
            "Epoch 131/200\n",
            "8/8 [==============================] - 0s 2ms/step - loss: 0.2710 - accuracy: 1.0000\n",
            "Epoch 132/200\n",
            "8/8 [==============================] - 0s 3ms/step - loss: 0.2696 - accuracy: 1.0000\n",
            "Epoch 133/200\n",
            "8/8 [==============================] - 0s 2ms/step - loss: 0.2682 - accuracy: 1.0000\n",
            "Epoch 134/200\n",
            "8/8 [==============================] - 0s 2ms/step - loss: 0.2669 - accuracy: 1.0000\n",
            "Epoch 135/200\n",
            "8/8 [==============================] - 0s 2ms/step - loss: 0.2655 - accuracy: 1.0000\n",
            "Epoch 136/200\n",
            "8/8 [==============================] - 0s 2ms/step - loss: 0.2642 - accuracy: 1.0000\n",
            "Epoch 137/200\n",
            "8/8 [==============================] - 0s 2ms/step - loss: 0.2629 - accuracy: 1.0000\n",
            "Epoch 138/200\n",
            "8/8 [==============================] - 0s 2ms/step - loss: 0.2615 - accuracy: 1.0000\n",
            "Epoch 139/200\n",
            "8/8 [==============================] - 0s 2ms/step - loss: 0.2603 - accuracy: 1.0000\n",
            "Epoch 140/200\n",
            "8/8 [==============================] - 0s 2ms/step - loss: 0.2590 - accuracy: 1.0000\n",
            "Epoch 141/200\n",
            "8/8 [==============================] - 0s 2ms/step - loss: 0.2577 - accuracy: 1.0000\n",
            "Epoch 142/200\n",
            "8/8 [==============================] - 0s 2ms/step - loss: 0.2565 - accuracy: 1.0000\n",
            "Epoch 143/200\n",
            "8/8 [==============================] - 0s 2ms/step - loss: 0.2552 - accuracy: 1.0000\n",
            "Epoch 144/200\n",
            "8/8 [==============================] - 0s 2ms/step - loss: 0.2540 - accuracy: 1.0000\n",
            "Epoch 145/200\n",
            "8/8 [==============================] - 0s 2ms/step - loss: 0.2528 - accuracy: 1.0000\n",
            "Epoch 146/200\n",
            "8/8 [==============================] - 0s 2ms/step - loss: 0.2516 - accuracy: 1.0000\n",
            "Epoch 147/200\n",
            "8/8 [==============================] - 0s 2ms/step - loss: 0.2504 - accuracy: 1.0000\n",
            "Epoch 148/200\n",
            "8/8 [==============================] - 0s 2ms/step - loss: 0.2492 - accuracy: 1.0000\n",
            "Epoch 149/200\n",
            "8/8 [==============================] - 0s 2ms/step - loss: 0.2481 - accuracy: 1.0000\n",
            "Epoch 150/200\n",
            "8/8 [==============================] - 0s 2ms/step - loss: 0.2469 - accuracy: 1.0000\n",
            "Epoch 151/200\n",
            "8/8 [==============================] - 0s 2ms/step - loss: 0.2458 - accuracy: 1.0000\n",
            "Epoch 152/200\n",
            "8/8 [==============================] - 0s 2ms/step - loss: 0.2446 - accuracy: 1.0000\n",
            "Epoch 153/200\n",
            "8/8 [==============================] - 0s 2ms/step - loss: 0.2435 - accuracy: 1.0000\n",
            "Epoch 154/200\n",
            "8/8 [==============================] - 0s 2ms/step - loss: 0.2424 - accuracy: 1.0000\n",
            "Epoch 155/200\n",
            "8/8 [==============================] - 0s 2ms/step - loss: 0.2413 - accuracy: 1.0000\n",
            "Epoch 156/200\n",
            "8/8 [==============================] - 0s 2ms/step - loss: 0.2403 - accuracy: 1.0000\n",
            "Epoch 157/200\n",
            "8/8 [==============================] - 0s 2ms/step - loss: 0.2392 - accuracy: 1.0000\n",
            "Epoch 158/200\n",
            "8/8 [==============================] - 0s 2ms/step - loss: 0.2381 - accuracy: 1.0000\n",
            "Epoch 159/200\n",
            "8/8 [==============================] - 0s 2ms/step - loss: 0.2371 - accuracy: 1.0000\n",
            "Epoch 160/200\n",
            "8/8 [==============================] - 0s 2ms/step - loss: 0.2360 - accuracy: 1.0000\n",
            "Epoch 161/200\n",
            "8/8 [==============================] - 0s 2ms/step - loss: 0.2350 - accuracy: 1.0000\n",
            "Epoch 162/200\n",
            "8/8 [==============================] - 0s 2ms/step - loss: 0.2340 - accuracy: 1.0000\n",
            "Epoch 163/200\n",
            "8/8 [==============================] - 0s 2ms/step - loss: 0.2330 - accuracy: 1.0000\n",
            "Epoch 164/200\n",
            "8/8 [==============================] - 0s 2ms/step - loss: 0.2320 - accuracy: 1.0000\n",
            "Epoch 165/200\n",
            "8/8 [==============================] - 0s 2ms/step - loss: 0.2310 - accuracy: 1.0000\n",
            "Epoch 166/200\n",
            "8/8 [==============================] - 0s 2ms/step - loss: 0.2300 - accuracy: 1.0000\n",
            "Epoch 167/200\n",
            "8/8 [==============================] - 0s 2ms/step - loss: 0.2291 - accuracy: 1.0000\n",
            "Epoch 168/200\n",
            "8/8 [==============================] - 0s 3ms/step - loss: 0.2281 - accuracy: 1.0000\n",
            "Epoch 169/200\n",
            "8/8 [==============================] - 0s 2ms/step - loss: 0.2272 - accuracy: 1.0000\n",
            "Epoch 170/200\n",
            "8/8 [==============================] - 0s 2ms/step - loss: 0.2262 - accuracy: 1.0000\n",
            "Epoch 171/200\n",
            "8/8 [==============================] - 0s 2ms/step - loss: 0.2253 - accuracy: 1.0000\n",
            "Epoch 172/200\n",
            "8/8 [==============================] - 0s 2ms/step - loss: 0.2244 - accuracy: 1.0000\n",
            "Epoch 173/200\n",
            "8/8 [==============================] - 0s 2ms/step - loss: 0.2234 - accuracy: 1.0000\n",
            "Epoch 174/200\n",
            "8/8 [==============================] - 0s 2ms/step - loss: 0.2225 - accuracy: 1.0000\n",
            "Epoch 175/200\n",
            "8/8 [==============================] - 0s 2ms/step - loss: 0.2216 - accuracy: 1.0000\n",
            "Epoch 176/200\n",
            "8/8 [==============================] - 0s 2ms/step - loss: 0.2208 - accuracy: 1.0000\n",
            "Epoch 177/200\n",
            "8/8 [==============================] - 0s 2ms/step - loss: 0.2199 - accuracy: 1.0000\n",
            "Epoch 178/200\n",
            "8/8 [==============================] - 0s 3ms/step - loss: 0.2190 - accuracy: 1.0000\n",
            "Epoch 179/200\n",
            "8/8 [==============================] - 0s 2ms/step - loss: 0.2181 - accuracy: 1.0000\n",
            "Epoch 180/200\n",
            "8/8 [==============================] - 0s 3ms/step - loss: 0.2173 - accuracy: 1.0000\n",
            "Epoch 181/200\n",
            "8/8 [==============================] - 0s 2ms/step - loss: 0.2164 - accuracy: 1.0000\n",
            "Epoch 182/200\n",
            "8/8 [==============================] - 0s 2ms/step - loss: 0.2156 - accuracy: 1.0000\n",
            "Epoch 183/200\n",
            "8/8 [==============================] - 0s 2ms/step - loss: 0.2148 - accuracy: 1.0000\n",
            "Epoch 184/200\n",
            "8/8 [==============================] - 0s 2ms/step - loss: 0.2140 - accuracy: 1.0000\n",
            "Epoch 185/200\n",
            "8/8 [==============================] - 0s 2ms/step - loss: 0.2131 - accuracy: 1.0000\n",
            "Epoch 186/200\n",
            "8/8 [==============================] - 0s 2ms/step - loss: 0.2123 - accuracy: 1.0000\n",
            "Epoch 187/200\n",
            "8/8 [==============================] - 0s 2ms/step - loss: 0.2115 - accuracy: 1.0000\n",
            "Epoch 188/200\n",
            "8/8 [==============================] - 0s 2ms/step - loss: 0.2107 - accuracy: 1.0000\n",
            "Epoch 189/200\n",
            "8/8 [==============================] - 0s 2ms/step - loss: 0.2099 - accuracy: 1.0000\n",
            "Epoch 190/200\n",
            "8/8 [==============================] - 0s 2ms/step - loss: 0.2092 - accuracy: 1.0000\n",
            "Epoch 191/200\n",
            "8/8 [==============================] - 0s 3ms/step - loss: 0.2084 - accuracy: 1.0000\n",
            "Epoch 192/200\n",
            "8/8 [==============================] - 0s 2ms/step - loss: 0.2076 - accuracy: 1.0000\n",
            "Epoch 193/200\n",
            "8/8 [==============================] - 0s 2ms/step - loss: 0.2069 - accuracy: 1.0000\n",
            "Epoch 194/200\n",
            "8/8 [==============================] - 0s 2ms/step - loss: 0.2061 - accuracy: 1.0000\n",
            "Epoch 195/200\n",
            "8/8 [==============================] - 0s 2ms/step - loss: 0.2054 - accuracy: 1.0000\n",
            "Epoch 196/200\n",
            "8/8 [==============================] - 0s 2ms/step - loss: 0.2046 - accuracy: 1.0000\n",
            "Epoch 197/200\n",
            "8/8 [==============================] - 0s 3ms/step - loss: 0.2039 - accuracy: 1.0000\n",
            "Epoch 198/200\n",
            "8/8 [==============================] - 0s 2ms/step - loss: 0.2032 - accuracy: 1.0000\n",
            "Epoch 199/200\n",
            "8/8 [==============================] - 0s 2ms/step - loss: 0.2024 - accuracy: 1.0000\n",
            "Epoch 200/200\n",
            "8/8 [==============================] - 0s 2ms/step - loss: 0.2017 - accuracy: 1.0000\n"
          ],
          "name": "stdout"
        },
        {
          "output_type": "execute_result",
          "data": {
            "text/plain": [
              "<tensorflow.python.keras.callbacks.History at 0x7f5fd01a7438>"
            ]
          },
          "metadata": {
            "tags": []
          },
          "execution_count": 76
        }
      ]
    },
    {
      "cell_type": "code",
      "metadata": {
        "colab": {
          "base_uri": "https://localhost:8080/",
          "height": 283
        },
        "id": "EalPnirhOwcp",
        "outputId": "12d656bd-fe56-4caf-99c2-77666244a1c3"
      },
      "source": [
        "plt.plot(Z1,Z2)"
      ],
      "execution_count": null,
      "outputs": [
        {
          "output_type": "execute_result",
          "data": {
            "text/plain": [
              "[<matplotlib.lines.Line2D at 0x7f5fd00957f0>]"
            ]
          },
          "metadata": {
            "tags": []
          },
          "execution_count": 77
        },
        {
          "output_type": "display_data",
          "data": {
            "image/png": "[encoded data removed]",
            "text/plain": [
              "<Figure size 432x288 with 1 Axes>"
            ]
          },
          "metadata": {
            "tags": [],
            "needs_background": "light"
          }
        }
      ]
    },
    {
      "cell_type": "code",
      "metadata": {
        "colab": {
          "base_uri": "https://localhost:8080/",
          "height": 489
        },
        "id": "hPQHpl8CNo2P",
        "outputId": "b2244902-9401-4b8e-bc6f-6d0adffbc48b"
      },
      "source": [
        "plt.plot(Z1,Z2, 'rx')\r\n",
        "print(Z1)\r\n",
        "print(Z2)\r\n",
        "print(model.predict(Z1))\r\n",
        "plt.show()"
      ],
      "execution_count": null,
      "outputs": [
        {
          "output_type": "stream",
          "text": [
            "[1 2 3 4 5 6 7 8]\n",
            "[0 0 0 0 1 1 1 1]\n",
            "WARNING:tensorflow:6 out of the last 6 calls to <function Model.make_predict_function.<locals>.predict_function at 0x7f5fd01131e0> triggered tf.function retracing. Tracing is expensive and the excessive number of tracings could be due to (1) creating @tf.function repeatedly in a loop, (2) passing tensors with different shapes, (3) passing Python objects instead of tensors. For (1), please define your @tf.function outside of the loop. For (2), @tf.function has experimental_relax_shapes=True option that relaxes argument shapes that can avoid unnecessary retracing. For (3), please refer to https://www.tensorflow.org/guide/function#controlling_retracing and https://www.tensorflow.org/api_docs/python/tf/function for  more details.\n",
            "[[0.04852129]\n",
            " [0.11539057]\n",
            " [0.25018373]\n",
            " [0.4604723 ]\n",
            " [0.6858416 ]\n",
            " [0.84812117]\n",
            " [0.93457156]\n",
            " [0.9733595 ]]\n"
          ],
          "name": "stdout"
        },
        {
          "output_type": "display_data",
          "data": {
            "image/png": "[encoded data removed]",
            "text/plain": [
              "<Figure size 432x288 with 1 Axes>"
            ]
          },
          "metadata": {
            "tags": [],
            "needs_background": "light"
          }
        }
      ]
    },
    {
      "cell_type": "code",
      "metadata": {
        "id": "xStYUIpojpI9"
      },
      "source": [
        "# 패션 MNIST 불러오기\r\n",
        "\r\n",
        "from tensorflow import keras\r\n",
        "(train_input, train_target),(test_input, test_target)=keras.datasets.fashion_mnist.load_data()"
      ],
      "execution_count": null,
      "outputs": []
    },
    {
      "cell_type": "code",
      "metadata": {
        "colab": {
          "base_uri": "https://localhost:8080/"
        },
        "id": "TR4zCD66kBgS",
        "outputId": "1dc264e7-b1e3-4462-aedf-e8669742d0c5"
      },
      "source": [
        "# 데이터 크기 확인\r\n",
        "\r\n",
        "print(train_input.shape, train_target.shape)\r\n",
        "print(test_input.shape, test_target.shape)"
      ],
      "execution_count": null,
      "outputs": [
        {
          "output_type": "stream",
          "text": [
            "(60000, 28, 28) (60000,)\n",
            "(10000, 28, 28) (10000,)\n"
          ],
          "name": "stdout"
        }
      ]
    },
    {
      "cell_type": "code",
      "metadata": {
        "colab": {
          "base_uri": "https://localhost:8080/",
          "height": 98
        },
        "id": "mxR_NnBKkuFk",
        "outputId": "1cc52421-737b-46ad-d1fb-c2534292ce22"
      },
      "source": [
        "import matplotlib.pyplot as plt\r\n",
        "fig, axs = plt.subplots(1,10, figsize=(10,10)) # 여러 개의 이미지를 배열처럼 쌓을 수 있다.(행, 열), axs[0~9] 10개의 이미지를 담고 있는 배열\r\n",
        "for i in range(10):\r\n",
        "  axs[i].imshow(train_input[i], cmap='gray_r')\r\n",
        "  # axs[i].axis('off')\r\n",
        "plt.show()"
      ],
      "execution_count": null,
      "outputs": [
        {
          "output_type": "display_data",
          "data": {
            "image/png": "[encoded data removed]",
            "text/plain": [
              "<Figure size 720x720 with 10 Axes>"
            ]
          },
          "metadata": {
            "tags": [],
            "needs_background": "light"
          }
        }
      ]
    },
    {
      "cell_type": "code",
      "metadata": {
        "colab": {
          "base_uri": "https://localhost:8080/",
          "height": 283
        },
        "id": "-uGfUHlwlOqT",
        "outputId": "eda676b8-83ad-41a1-b6f9-b41352713aae"
      },
      "source": [
        "plt.imshow(train_input[0],cmap='gray')"
      ],
      "execution_count": null,
      "outputs": [
        {
          "output_type": "execute_result",
          "data": {
            "text/plain": [
              "<matplotlib.image.AxesImage at 0x7f5fc74f2ac8>"
            ]
          },
          "metadata": {
            "tags": []
          },
          "execution_count": 82
        },
        {
          "output_type": "display_data",
          "data": {
            "image/png": "[encoded data removed]",
            "text/plain": [
              "<Figure size 432x288 with 1 Axes>"
            ]
          },
          "metadata": {
            "tags": [],
            "needs_background": "light"
          }
        }
      ]
    },
    {
      "cell_type": "code",
      "metadata": {
        "colab": {
          "base_uri": "https://localhost:8080/"
        },
        "id": "q_ChssrZnWSD",
        "outputId": "9290866f-f89d-4bc1-d6af-81631eed3af7"
      },
      "source": [
        "print(train_target[:10]) # 처음 샘플 10개의 타겟값\r\n",
        "print([train_target[i] for i in range(10)]) # 리스트 내포"
      ],
      "execution_count": null,
      "outputs": [
        {
          "output_type": "stream",
          "text": [
            "[9 0 0 3 0 2 7 2 5 5]\n",
            "[9, 0, 0, 3, 0, 2, 7, 2, 5, 5]\n"
          ],
          "name": "stdout"
        }
      ]
    },
    {
      "cell_type": "code",
      "metadata": {
        "id": "d3--xZ79njw3"
      },
      "source": [
        "class_names = ['티셔츠','바지','스웨터','드레스','코트','샌들','셔츠','스니커즈','가방','앵글부츠']"
      ],
      "execution_count": null,
      "outputs": []
    },
    {
      "cell_type": "code",
      "metadata": {
        "colab": {
          "base_uri": "https://localhost:8080/"
        },
        "id": "RC3yHYqjoAe-",
        "outputId": "75a1cb8d-7964-48c2-9792-1ab42b7c49f2"
      },
      "source": [
        "print(class_names[train_target[0]])"
      ],
      "execution_count": null,
      "outputs": [
        {
          "output_type": "stream",
          "text": [
            "앵글부츠\n"
          ],
          "name": "stdout"
        }
      ]
    },
    {
      "cell_type": "code",
      "metadata": {
        "colab": {
          "base_uri": "https://localhost:8080/"
        },
        "id": "Qs3xs8sIoGHF",
        "outputId": "44436417-83b2-4d66-8ff3-00894898c59a"
      },
      "source": [
        "# 레이블 당 샘플 개수 = 10*6000 = 60000\r\n",
        "import numpy as np\r\n",
        "\r\n",
        "print(np.unique(train_target, return_counts=True))"
      ],
      "execution_count": null,
      "outputs": [
        {
          "output_type": "stream",
          "text": [
            "(array([0, 1, 2, 3, 4, 5, 6, 7, 8, 9], dtype=uint8), array([6000, 6000, 6000, 6000, 6000, 6000, 6000, 6000, 6000, 6000]))\n"
          ],
          "name": "stdout"
        }
      ]
    },
    {
      "cell_type": "code",
      "metadata": {
        "colab": {
          "base_uri": "https://localhost:8080/"
        },
        "id": "JeARmO4codyC",
        "outputId": "9bbac54c-fe80-4fa1-da9c-1d979ceb2573"
      },
      "source": [
        "# 로지스틱 회귀로 분류하기\r\n",
        "# 이미지 데이터 전처리\r\n",
        "train_scaled = train_input / 255\r\n",
        "train_scaled = train_scaled.reshape(-1,28*28) # 28*28인 2차원 이미지를 784*1의 1차원 배열로 변환\r\n",
        "print(train_scaled.shape)\r\n"
      ],
      "execution_count": null,
      "outputs": [
        {
          "output_type": "stream",
          "text": [
            "(60000, 784)\n"
          ],
          "name": "stdout"
        }
      ]
    },
    {
      "cell_type": "code",
      "metadata": {
        "colab": {
          "base_uri": "https://localhost:8080/"
        },
        "id": "_XQ8GV2bp9Mt",
        "outputId": "3f4e49ed-2a48-4731-aef8-e2edf7cb8e2b"
      },
      "source": [
        "from sklearn.model_selection import cross_validate\r\n",
        "from sklearn.linear_model import SGDClassifier\r\n",
        "sc = SGDClassifier(loss='log', max_iter=5, random_state=100)\r\n",
        "scores = cross_validate(sc, train_scaled, train_target, n_jobs=1)\r\n",
        "print(np.mean(scores['test_score']))"
      ],
      "execution_count": null,
      "outputs": [
        {
          "output_type": "stream",
          "text": [
            "/usr/local/lib/python3.6/dist-packages/sklearn/linear_model/_stochastic_gradient.py:557: ConvergenceWarning: Maximum number of iteration reached before convergence. Consider increasing max_iter to improve the fit.\n",
            "  ConvergenceWarning)\n",
            "/usr/local/lib/python3.6/dist-packages/sklearn/linear_model/_stochastic_gradient.py:557: ConvergenceWarning: Maximum number of iteration reached before convergence. Consider increasing max_iter to improve the fit.\n",
            "  ConvergenceWarning)\n",
            "/usr/local/lib/python3.6/dist-packages/sklearn/linear_model/_stochastic_gradient.py:557: ConvergenceWarning: Maximum number of iteration reached before convergence. Consider increasing max_iter to improve the fit.\n",
            "  ConvergenceWarning)\n",
            "/usr/local/lib/python3.6/dist-packages/sklearn/linear_model/_stochastic_gradient.py:557: ConvergenceWarning: Maximum number of iteration reached before convergence. Consider increasing max_iter to improve the fit.\n",
            "  ConvergenceWarning)\n"
          ],
          "name": "stderr"
        },
        {
          "output_type": "stream",
          "text": [
            "0.8203166666666668\n"
          ],
          "name": "stdout"
        },
        {
          "output_type": "stream",
          "text": [
            "/usr/local/lib/python3.6/dist-packages/sklearn/linear_model/_stochastic_gradient.py:557: ConvergenceWarning: Maximum number of iteration reached before convergence. Consider increasing max_iter to improve the fit.\n",
            "  ConvergenceWarning)\n"
          ],
          "name": "stderr"
        }
      ]
    },
    {
      "cell_type": "code",
      "metadata": {
        "colab": {
          "base_uri": "https://localhost:8080/"
        },
        "id": "jL-TR7Nsqa1e",
        "outputId": "461a9f9f-c478-4bbc-f4fb-8775b2a954f3"
      },
      "source": [
        "# 인공신경망 모델 만들기\r\n",
        "\r\n",
        "from sklearn.model_selection import train_test_split\r\n",
        "train_scaled, val_scaled, train_target, val_target = train_test_split(train_scaled, train_target, test_size=0.2, random_state=100)\r\n",
        "print(train_scaled.shape, train_target.shape)\r\n",
        "print(val_scaled.shape, val_target.shape)"
      ],
      "execution_count": null,
      "outputs": [
        {
          "output_type": "stream",
          "text": [
            "(48000, 784) (48000,)\n",
            "(12000, 784) (12000,)\n"
          ],
          "name": "stdout"
        }
      ]
    },
    {
      "cell_type": "code",
      "metadata": {
        "colab": {
          "base_uri": "https://localhost:8080/"
        },
        "id": "03Rjl2_gr0h4",
        "outputId": "cc96252a-25b0-4eb4-8305-6cee21f41c0c"
      },
      "source": [
        "# 완전연결층\r\n",
        "\r\n",
        "dense = keras.layers.Dense(10, activation='softmax', input_shape=(784,))\r\n",
        "model = keras.Sequential(dense)\r\n",
        "model.compile(loss='sparse_categorical_crossentropy', metrics='accuracy')\r\n",
        "print(train_target[:10])"
      ],
      "execution_count": null,
      "outputs": [
        {
          "output_type": "stream",
          "text": [
            "[9 5 4 0 3 3 2 2 1 7]\n"
          ],
          "name": "stdout"
        }
      ]
    },
    {
      "cell_type": "code",
      "metadata": {
        "colab": {
          "base_uri": "https://localhost:8080/"
        },
        "id": "2KlibqGAtjXb",
        "outputId": "25853a6e-650e-485e-d32a-a676ebe78470"
      },
      "source": [
        "# 원-핫 인코딩 예제\r\n",
        "\r\n",
        "tf.keras.utils.to_categorical([0,1,3])"
      ],
      "execution_count": null,
      "outputs": [
        {
          "output_type": "execute_result",
          "data": {
            "text/plain": [
              "array([[1., 0., 0., 0.],\n",
              "       [0., 1., 0., 0.],\n",
              "       [0., 0., 0., 1.]], dtype=float32)"
            ]
          },
          "metadata": {
            "tags": []
          },
          "execution_count": 91
        }
      ]
    },
    {
      "cell_type": "code",
      "metadata": {
        "id": "gIP53FVlt2PL"
      },
      "source": [
        "# 원-핫 인코딩 변환\r\n",
        "\r\n",
        "train_target_encoded = tf.keras.utils.to_categorical(train_target)\r\n",
        "val_target_encoded = tf.keras.utils.to_categorical(val_target)"
      ],
      "execution_count": null,
      "outputs": []
    },
    {
      "cell_type": "code",
      "metadata": {
        "colab": {
          "base_uri": "https://localhost:8080/"
        },
        "id": "RTQMuEWzumIr",
        "outputId": "bf422575-2ad7-406f-c604-033fc07e25a5"
      },
      "source": [
        "print(train_target_encoded.shape, val_target_encoded.shape)"
      ],
      "execution_count": null,
      "outputs": [
        {
          "output_type": "stream",
          "text": [
            "(48000, 10) (12000, 10)\n"
          ],
          "name": "stdout"
        }
      ]
    },
    {
      "cell_type": "code",
      "metadata": {
        "colab": {
          "base_uri": "https://localhost:8080/"
        },
        "id": "bD2fbX0muqRx",
        "outputId": "6f86fc76-5875-4d9c-9aca-cfeee3a9da79"
      },
      "source": [
        "print(train_target[0],train_target_encoded[0])"
      ],
      "execution_count": null,
      "outputs": [
        {
          "output_type": "stream",
          "text": [
            "9 [0. 0. 0. 0. 0. 0. 0. 0. 0. 1.]\n"
          ],
          "name": "stdout"
        }
      ]
    },
    {
      "cell_type": "code",
      "metadata": {
        "colab": {
          "base_uri": "https://localhost:8080/"
        },
        "id": "hakIV3hpu8ls",
        "outputId": "f3417135-9595-4f07-870b-28dfcff29001"
      },
      "source": [
        "# 신경망 모델 훈련\r\n",
        "\r\n",
        "model.fit(train_scaled, train_target, epochs=5)"
      ],
      "execution_count": null,
      "outputs": [
        {
          "output_type": "stream",
          "text": [
            "Epoch 1/5\n",
            "1500/1500 [==============================] - 3s 2ms/step - loss: 0.7662 - accuracy: 0.7411\n",
            "Epoch 2/5\n",
            "1500/1500 [==============================] - 2s 2ms/step - loss: 0.4892 - accuracy: 0.8358\n",
            "Epoch 3/5\n",
            "1500/1500 [==============================] - 3s 2ms/step - loss: 0.4639 - accuracy: 0.8457\n",
            "Epoch 4/5\n",
            "1500/1500 [==============================] - 3s 2ms/step - loss: 0.4465 - accuracy: 0.8514\n",
            "Epoch 5/5\n",
            "1500/1500 [==============================] - 3s 2ms/step - loss: 0.4413 - accuracy: 0.8530\n"
          ],
          "name": "stdout"
        },
        {
          "output_type": "execute_result",
          "data": {
            "text/plain": [
              "<tensorflow.python.keras.callbacks.History at 0x7f5fc74512e8>"
            ]
          },
          "metadata": {
            "tags": []
          },
          "execution_count": 95
        }
      ]
    },
    {
      "cell_type": "code",
      "metadata": {
        "colab": {
          "base_uri": "https://localhost:8080/"
        },
        "id": "8GVlnKnyvYox",
        "outputId": "d02b845a-235f-433a-c856-488d573684fe"
      },
      "source": [
        "# 신경망 모델 성능 평가\r\n",
        "\r\n",
        "model.evaluate(val_scaled, val_target)"
      ],
      "execution_count": null,
      "outputs": [
        {
          "output_type": "stream",
          "text": [
            "375/375 [==============================] - 1s 1ms/step - loss: 0.4637 - accuracy: 0.8412\n"
          ],
          "name": "stdout"
        },
        {
          "output_type": "execute_result",
          "data": {
            "text/plain": [
              "[0.46374475955963135, 0.8411666750907898]"
            ]
          },
          "metadata": {
            "tags": []
          },
          "execution_count": 96
        }
      ]
    },
    {
      "cell_type": "code",
      "metadata": {
        "id": "XKnNh0bhvk8V"
      },
      "source": [
        "# 심층 신경망 : 2개층 신경망\r\n",
        "\r\n",
        "from tensorflow import keras\r\n",
        "(train_input, train_target),(test_input, test_target)=keras.datasets.fashion_mnist.load_data()"
      ],
      "execution_count": null,
      "outputs": []
    },
    {
      "cell_type": "code",
      "metadata": {
        "colab": {
          "base_uri": "https://localhost:8080/"
        },
        "id": "9URy7So2wMsu",
        "outputId": "ef3b6cee-996f-4fea-863c-5b925934a961"
      },
      "source": [
        "from sklearn.model_selection import train_test_split\r\n",
        "train_scaled = train_input / 255\r\n",
        "train_scaled = train_scaled.reshape(-1,28*28) # 28*28인 2차원 이미지를 784*1의 1차원 배열로 변환\r\n",
        "train_scaled, val_scaled, train_target, val_target = train_test_split(train_scaled, train_target, test_size=0.2, random_state=100)\r\n",
        "print(train_scaled.shape, train_target.shape)\r\n",
        "print(val_scaled.shape, val_target.shape)"
      ],
      "execution_count": null,
      "outputs": [
        {
          "output_type": "stream",
          "text": [
            "(48000, 784) (48000,)\n",
            "(12000, 784) (12000,)\n"
          ],
          "name": "stdout"
        }
      ]
    },
    {
      "cell_type": "code",
      "metadata": {
        "id": "1-mRgdrMwnja"
      },
      "source": [
        "dense1 = keras.layers.Dense(100, activation='sigmoid', input_shape=(784,)) # 은닉층\r\n",
        "dense2 = keras.layers.Dense(10, activation='softmax') # 출력층\r\n"
      ],
      "execution_count": null,
      "outputs": []
    },
    {
      "cell_type": "code",
      "metadata": {
        "colab": {
          "base_uri": "https://localhost:8080/"
        },
        "id": "9BNiyPVSw_-o",
        "outputId": "6ed9b113-2a0c-4ca3-f9d8-8c3c96bd38af"
      },
      "source": [
        "# 신경망 모델 만들기\r\n",
        "\r\n",
        "model = keras.Sequential([dense1, dense2])\r\n",
        "model.summary() # 미니배치경사하강법, 기본배치사이즈=32 , 샘플개수정의되지않음 =None"
      ],
      "execution_count": null,
      "outputs": [
        {
          "output_type": "stream",
          "text": [
            "Model: \"sequential_11\"\n",
            "_________________________________________________________________\n",
            "Layer (type)                 Output Shape              Param #   \n",
            "=================================================================\n",
            "dense_11 (Dense)             (None, 100)               78500     \n",
            "_________________________________________________________________\n",
            "dense_12 (Dense)             (None, 10)                1010      \n",
            "=================================================================\n",
            "Total params: 79,510\n",
            "Trainable params: 79,510\n",
            "Non-trainable params: 0\n",
            "_________________________________________________________________\n"
          ],
          "name": "stdout"
        }
      ]
    },
    {
      "cell_type": "code",
      "metadata": {
        "colab": {
          "base_uri": "https://localhost:8080/"
        },
        "id": "XUUgonb80TyJ",
        "outputId": "818d2bfd-9c73-4684-93d6-3e374a8b60fc"
      },
      "source": [
        "# 신경망 모델 훈련\r\n",
        "\r\n",
        "model.compile(loss='sparse_categorical_crossentropy', metrics='accuracy')\r\n",
        "model.fit(train_scaled, train_target, epochs=5)"
      ],
      "execution_count": null,
      "outputs": [
        {
          "output_type": "stream",
          "text": [
            "Epoch 1/5\n",
            "1500/1500 [==============================] - 3s 2ms/step - loss: 0.7687 - accuracy: 0.7543\n",
            "Epoch 2/5\n",
            "1500/1500 [==============================] - 3s 2ms/step - loss: 0.4075 - accuracy: 0.8515\n",
            "Epoch 3/5\n",
            "1500/1500 [==============================] - 3s 2ms/step - loss: 0.3794 - accuracy: 0.8615\n",
            "Epoch 4/5\n",
            "1500/1500 [==============================] - 3s 2ms/step - loss: 0.3559 - accuracy: 0.8703\n",
            "Epoch 5/5\n",
            "1500/1500 [==============================] - 3s 2ms/step - loss: 0.3313 - accuracy: 0.8800\n"
          ],
          "name": "stdout"
        },
        {
          "output_type": "execute_result",
          "data": {
            "text/plain": [
              "<tensorflow.python.keras.callbacks.History at 0x7f5fc7449978>"
            ]
          },
          "metadata": {
            "tags": []
          },
          "execution_count": 101
        }
      ]
    },
    {
      "cell_type": "code",
      "metadata": {
        "id": "c5UEsJMmxK7Y"
      },
      "source": [
        "model = keras.Sequential()\r\n",
        "model.add(keras.layers.Flatten(input_shape=(28,28))) # 28*28을 1차원으로 펼치는 역할\r\n",
        "model.add(keras.layers.Dense(100, activation='relu')) # 렐루함수 : 시그모이드보다 속도가 빠르고 이미지 처리에 우수함\r\n",
        "model.add(keras.layers.Dense(10, activation='softmax'))"
      ],
      "execution_count": null,
      "outputs": []
    },
    {
      "cell_type": "code",
      "metadata": {
        "colab": {
          "base_uri": "https://localhost:8080/"
        },
        "id": "Ti0ct32f1TUr",
        "outputId": "b042e6cd-85ab-45b5-9f11-5d7ed6dfc7cd"
      },
      "source": [
        "model.summary()"
      ],
      "execution_count": null,
      "outputs": [
        {
          "output_type": "stream",
          "text": [
            "Model: \"sequential_12\"\n",
            "_________________________________________________________________\n",
            "Layer (type)                 Output Shape              Param #   \n",
            "=================================================================\n",
            "flatten (Flatten)            (None, 784)               0         \n",
            "_________________________________________________________________\n",
            "dense_13 (Dense)             (None, 100)               78500     \n",
            "_________________________________________________________________\n",
            "dense_14 (Dense)             (None, 10)                1010      \n",
            "=================================================================\n",
            "Total params: 79,510\n",
            "Trainable params: 79,510\n",
            "Non-trainable params: 0\n",
            "_________________________________________________________________\n"
          ],
          "name": "stdout"
        }
      ]
    },
    {
      "cell_type": "code",
      "metadata": {
        "colab": {
          "base_uri": "https://localhost:8080/"
        },
        "id": "X8mxEM3Y1Vx0",
        "outputId": "b2221347-1724-4079-f87a-a207f69107a6"
      },
      "source": [
        "# flatten(reshape 삭제)을 이요한 모델 훈련\r\n",
        "(train_input, train_target),(test_input, test_target)=keras.datasets.fashion_mnist.load_data()\r\n",
        "train_scaled = train_input / 255\r\n",
        "train_scaled, val_scaled, train_target, val_target = train_test_split(train_scaled, train_target, test_size=0.2, random_state=100)\r\n",
        "model.compile(optimizer='rmsprop', loss='sparse_categorical_crossentropy', metrics='accuracy')\r\n",
        "model.fit(train_scaled, train_target, epochs=5)"
      ],
      "execution_count": null,
      "outputs": [
        {
          "output_type": "stream",
          "text": [
            "Epoch 1/5\n",
            "1500/1500 [==============================] - 3s 2ms/step - loss: 0.2950 - accuracy: 0.8935\n",
            "Epoch 2/5\n",
            "1500/1500 [==============================] - 3s 2ms/step - loss: 0.2797 - accuracy: 0.8993\n",
            "Epoch 3/5\n",
            "1500/1500 [==============================] - 3s 2ms/step - loss: 0.2790 - accuracy: 0.8991\n",
            "Epoch 4/5\n",
            "1500/1500 [==============================] - 3s 2ms/step - loss: 0.2715 - accuracy: 0.9034\n",
            "Epoch 5/5\n",
            "1500/1500 [==============================] - 3s 2ms/step - loss: 0.2680 - accuracy: 0.9034\n"
          ],
          "name": "stdout"
        },
        {
          "output_type": "execute_result",
          "data": {
            "text/plain": [
              "<tensorflow.python.keras.callbacks.History at 0x7f5fd0457630>"
            ]
          },
          "metadata": {
            "tags": []
          },
          "execution_count": 110
        }
      ]
    },
    {
      "cell_type": "code",
      "metadata": {
        "colab": {
          "base_uri": "https://localhost:8080/"
        },
        "id": "8Tck8MvN1xkQ",
        "outputId": "26c434f0-cffb-47dc-c249-b7939e1c26e9"
      },
      "source": [
        "# 모델 성능 평가\r\n",
        "\r\n",
        "model.evaluate(val_scaled, val_target)"
      ],
      "execution_count": null,
      "outputs": [
        {
          "output_type": "stream",
          "text": [
            "375/375 [==============================] - 1s 1ms/step - loss: 0.3716 - accuracy: 0.8777\n"
          ],
          "name": "stdout"
        },
        {
          "output_type": "execute_result",
          "data": {
            "text/plain": [
              "[0.37159788608551025, 0.8776666522026062]"
            ]
          },
          "metadata": {
            "tags": []
          },
          "execution_count": 106
        }
      ]
    },
    {
      "cell_type": "code",
      "metadata": {
        "id": "YytHaJ4J2a_E"
      },
      "source": [
        "# 옵티마이저 : keras의 가중치와 절편을 학습하기 위한 알고리즘, SGD, 네스테로프 모멘텀, RMSprop, Adam\r\n",
        "\r\n",
        "sgd = keras.optimizers.SGD(learning_rate=0.1) # 학습률이 0.1인 확률적 경사하강법\r\n",
        "sdg = keras.optimizers.SGD(momentum=0.9, nesterov=True) # 네스테로프 모멘텀 최적화\r\n",
        "adagrad = keras.optimizers.Adagrad() # 모델이 최적점에 가까이 갈수록 학습률을 낮추어 안정적으로 최적점에 수렴(적응적 학습률)\r\n",
        "rmsprop = keras.optimizers.RMSprop() # 적응적 학습률 사용\r\n",
        "\r\n",
        "model.compile(optimizer=sgd, loss='sparse_categorical_crossentropy', metrics='accuracy')\r\n"
      ],
      "execution_count": null,
      "outputs": []
    },
    {
      "cell_type": "code",
      "metadata": {
        "colab": {
          "base_uri": "https://localhost:8080/"
        },
        "id": "aY3-pGmM5BIj",
        "outputId": "07f0c7f6-64cf-40de-8da4-5fd79367a3d9"
      },
      "source": [
        "# adam 옵티마이저를 이용한 패션 MNIST 모델 훈련\r\n",
        "model = keras.Sequential()\r\n",
        "model.add(keras.layers.Flatten(input_shape=(28,28))) # 28*28을 1차원으로 펼치는 역할\r\n",
        "model.add(keras.layers.Dense(100, activation='relu')) # 렐루함수 : 시그모이드보다 속도가 빠르고 이미지 처리에 우수함\r\n",
        "model.add(keras.layers.Dense(10, activation='softmax'))\r\n",
        "model.compile(optimizer='adam', loss='sparse_categorical_crossentropy', metrics='accuracy') # 모멘텀 최적화와 RMSprop의 장점을 접목 :Adam\r\n",
        "model.fit(train_scaled, train_target, epochs=5)"
      ],
      "execution_count": null,
      "outputs": [
        {
          "output_type": "stream",
          "text": [
            "Epoch 1/5\n",
            "1500/1500 [==============================] - 3s 2ms/step - loss: 0.6810 - accuracy: 0.7658\n",
            "Epoch 2/5\n",
            "1500/1500 [==============================] - 3s 2ms/step - loss: 0.3954 - accuracy: 0.8593\n",
            "Epoch 3/5\n",
            "1500/1500 [==============================] - 2s 2ms/step - loss: 0.3560 - accuracy: 0.8728\n",
            "Epoch 4/5\n",
            "1500/1500 [==============================] - 2s 2ms/step - loss: 0.3278 - accuracy: 0.8806\n",
            "Epoch 5/5\n",
            "1500/1500 [==============================] - 2s 2ms/step - loss: 0.3041 - accuracy: 0.8863\n"
          ],
          "name": "stdout"
        },
        {
          "output_type": "execute_result",
          "data": {
            "text/plain": [
              "<tensorflow.python.keras.callbacks.History at 0x7f5fc3866208>"
            ]
          },
          "metadata": {
            "tags": []
          },
          "execution_count": 108
        }
      ]
    },
    {
      "cell_type": "code",
      "metadata": {
        "colab": {
          "base_uri": "https://localhost:8080/"
        },
        "id": "04uEHs_U5WFY",
        "outputId": "3dccf187-18db-4a72-de24-b4b3a80f9956"
      },
      "source": [
        "model.evaluate(val_scaled, val_target)"
      ],
      "execution_count": null,
      "outputs": [
        {
          "output_type": "stream",
          "text": [
            "375/375 [==============================] - 1s 1ms/step - loss: 0.3343 - accuracy: 0.8777\n"
          ],
          "name": "stdout"
        },
        {
          "output_type": "execute_result",
          "data": {
            "text/plain": [
              "[0.3342868983745575, 0.8776666522026062]"
            ]
          },
          "metadata": {
            "tags": []
          },
          "execution_count": 109
        }
      ]
    },
    {
      "cell_type": "code",
      "metadata": {
        "id": "gadF4UR85-7B"
      },
      "source": [
        ""
      ],
      "execution_count": null,
      "outputs": []
    }
  ]
}