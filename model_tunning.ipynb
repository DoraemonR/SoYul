{
  "nbformat": 4,
  "nbformat_minor": 0,
  "metadata": {
    "colab": {
      "name": "model tunning.ipynb",
      "provenance": [],
      "authorship_tag": "ABX9TyPCCTjvWqm8ttUnH1qgkfUm",
      "include_colab_link": true
    },
    "kernelspec": {
      "name": "python3",
      "display_name": "Python 3"
    }
  },
  "cells": [
    {
      "cell_type": "markdown",
      "metadata": {
        "id": "view-in-github",
        "colab_type": "text"
      },
      "source": [
        "<a href=\"https://colab.research.google.com/github/DoraemonR/SoYul/blob/main/model_tunning.ipynb\" target=\"_parent\"><img src=\"https://colab.research.google.com/assets/colab-badge.svg\" alt=\"Open In Colab\"/></a>"
      ]
    },
    {
      "cell_type": "code",
      "metadata": {
        "id": "3J50Lzt11flD"
      },
      "source": [
        "# 훈련 데이터 셋, 검증 데이터 셋, 테스트 데이터 셋 분할\r\n",
        "\r\n",
        "from sklearn.datasets import load_breast_cancer\r\n",
        "from sklearn.model_selection import train_test_split\r\n",
        "from sklearn.linear_model import SGDClassifier"
      ],
      "execution_count": 13,
      "outputs": []
    },
    {
      "cell_type": "code",
      "metadata": {
        "id": "01djwshe153F"
      },
      "source": [
        "cancer = load_breast_cancer()\r\n"
      ],
      "execution_count": 7,
      "outputs": []
    },
    {
      "cell_type": "code",
      "metadata": {
        "id": "lp9jqYOi1-xx"
      },
      "source": [
        "x = cancer.data\r\n",
        "y = cancer.target"
      ],
      "execution_count": 8,
      "outputs": []
    },
    {
      "cell_type": "code",
      "metadata": {
        "colab": {
          "base_uri": "https://localhost:8080/"
        },
        "id": "SCvgp7Se2C4X",
        "outputId": "1dbe6c96-0899-4fa9-8e8f-7daeb8324228"
      },
      "source": [
        "x_train_all, x_test, y_train_all, y_test = train_test_split(x,y, stratify=y, test_size=0.2, random_state=100)\r\n",
        "print(x_train_all.shape, x_test.shape)"
      ],
      "execution_count": 9,
      "outputs": [
        {
          "output_type": "stream",
          "text": [
            "(455, 30) (114, 30)\n"
          ],
          "name": "stdout"
        }
      ]
    },
    {
      "cell_type": "code",
      "metadata": {
        "id": "pvVCts2C2i3m"
      },
      "source": [
        "x_train, x_val, y_train, y_val = train_test_split(x_train_all, y_train_all, stratify=y_train_all, test_size=0.2, random_state=100)\r\n"
      ],
      "execution_count": 11,
      "outputs": []
    },
    {
      "cell_type": "code",
      "metadata": {
        "colab": {
          "base_uri": "https://localhost:8080/"
        },
        "id": "pgkuKX6o24-w",
        "outputId": "d1507c89-3cdc-4977-afe0-f4dce701f7c7"
      },
      "source": [
        "print(len(x_train), len(x_val))"
      ],
      "execution_count": 12,
      "outputs": [
        {
          "output_type": "stream",
          "text": [
            "364 91\n"
          ],
          "name": "stdout"
        }
      ]
    },
    {
      "cell_type": "code",
      "metadata": {
        "colab": {
          "base_uri": "https://localhost:8080/"
        },
        "id": "on_ta8xW3Cvq",
        "outputId": "7912befe-6600-488c-91e0-e983a9d0cc4c"
      },
      "source": [
        "sgd = SGDClassifier(loss= 'log', random_state=100)\r\n",
        "sgd.fit(x_train, y_train)\r\n",
        "sgd.score(x_val, y_val)"
      ],
      "execution_count": 14,
      "outputs": [
        {
          "output_type": "execute_result",
          "data": {
            "text/plain": [
              "0.8681318681318682"
            ]
          },
          "metadata": {
            "tags": []
          },
          "execution_count": 14
        }
      ]
    },
    {
      "cell_type": "code",
      "metadata": {
        "id": "QklMDoUU3oFw"
      },
      "source": [
        "# 10-fold 교차검증\r\n",
        "\r\n",
        "import numpy as np\r\n",
        "from sklearn.model_selection import cross_validate"
      ],
      "execution_count": 15,
      "outputs": []
    },
    {
      "cell_type": "code",
      "metadata": {
        "colab": {
          "base_uri": "https://localhost:8080/"
        },
        "id": "NpDttPEi4OlX",
        "outputId": "13151ad9-3593-4b4d-ce40-2b41324bac23"
      },
      "source": [
        "sgd = SGDClassifier(loss = 'log', penalty='l2', alpha=0.001, random_state=100)\r\n",
        "scores = cross_validate(sgd, x_train_all, y_train_all, cv=10)\r\n",
        "print(np.mean(scores['test_score']))"
      ],
      "execution_count": 23,
      "outputs": [
        {
          "output_type": "stream",
          "text": [
            "0.9297584541062802\n"
          ],
          "name": "stdout"
        }
      ]
    },
    {
      "cell_type": "code",
      "metadata": {
        "colab": {
          "base_uri": "https://localhost:8080/"
        },
        "id": "E6uW1ub_4zSE",
        "outputId": "ff1dd592-d12a-4fe0-eda7-90cead39a48d"
      },
      "source": [
        "from sklearn.pipeline import make_pipeline\r\n",
        "from sklearn.preprocessing import StandardScaler\r\n",
        "pipe = make_pipeline(StandardScaler(), sgd)\r\n",
        "scores = cross_validate(pipe, x_train_all, y_train_all, cv=10, return_train_score=True)\r\n",
        "print(np.mean(scores['test_score']))\r\n",
        "print(np.mean(scores['train_score']))"
      ],
      "execution_count": 25,
      "outputs": [
        {
          "output_type": "stream",
          "text": [
            "0.9735748792270531\n",
            "0.9870576659311825\n"
          ],
          "name": "stdout"
        }
      ]
    },
    {
      "cell_type": "code",
      "metadata": {
        "id": "dNe9mg3K-tTB"
      },
      "source": [
        ""
      ],
      "execution_count": null,
      "outputs": []
    }
  ]
}